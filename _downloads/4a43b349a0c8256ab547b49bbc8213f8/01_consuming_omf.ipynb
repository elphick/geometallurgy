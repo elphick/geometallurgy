{
  "cells": [
    {
      "cell_type": "markdown",
      "metadata": {},
      "source": [
        "\n# Consuming OMF\n\nThis example demonstrates how to consume an Open Mining Format file\n"
      ]
    },
    {
      "cell_type": "code",
      "execution_count": null,
      "metadata": {
        "collapsed": false
      },
      "outputs": [],
      "source": [
        "import tempfile\nfrom pathlib import Path\n\nimport pandas as pd\nimport pooch\nfrom omfpandas import OMFPandasReader\n\nfrom elphick.geomet.block_model import BlockModel"
      ]
    },
    {
      "cell_type": "markdown",
      "metadata": {},
      "source": [
        "## Load\n\n"
      ]
    },
    {
      "cell_type": "code",
      "execution_count": null,
      "metadata": {
        "collapsed": false
      },
      "outputs": [],
      "source": [
        "# Cache an omf2 file locally\nfilepath: Path = Path(pooch.retrieve(\n    url=\"https://raw.githubusercontent.com/elphick/omfpandas/main/assets/copper_deposit.omf\",\n    known_hash=None,\n    path=Path(tempfile.gettempdir()) / \"geometallurgy\"))\n\nomfpr: OMFPandasReader = OMFPandasReader(filepath=filepath)\nblocks: pd.DataFrame = omfpr.read_blockmodel(blockmodel_name='Block Model')"
      ]
    },
    {
      "cell_type": "markdown",
      "metadata": {},
      "source": [
        "## Create mass\nThe mass of each block is calculated from the volume and a density of 2.265 g/cm3.\n\n"
      ]
    },
    {
      "cell_type": "code",
      "execution_count": null,
      "metadata": {
        "collapsed": false
      },
      "outputs": [],
      "source": [
        "blocks.reset_index(level=['dx', 'dy', 'dz'], inplace=True)\nblocks['volume'] = blocks.dx * blocks.dy * blocks.dz\nblocks.reset_index().set_index(keys=['x', 'y', 'z', 'dx', 'dy', 'dz'], inplace=True)\nblocks.rename(columns={'CU_pct': 'Cu'}, inplace=True)\nblocks['mass'] = blocks['volume'] * 2.265"
      ]
    },
    {
      "cell_type": "markdown",
      "metadata": {},
      "source": [
        "## Create a BlockModel\nThe BlockModel is created from the DataFrame and visualised.\nThis model can be used in a Flowsheet model to make metallurgical predictions and preserve the spatial context.\n\n"
      ]
    },
    {
      "cell_type": "code",
      "execution_count": null,
      "metadata": {
        "collapsed": false
      },
      "outputs": [],
      "source": [
        "bm: BlockModel = BlockModel(name=filepath.stem, data=blocks, mass_dry_var='mass', moisture_in_scope=False)\n\np = bm.plot(scalar='Cu')\np.title = filepath.stem\np.show()"
      ]
    },
    {
      "cell_type": "markdown",
      "metadata": {},
      "source": [
        "## Create from the omf directly\nThe BlockModel can be created directly from the OMF file. This is useful when the data is not yet in a DataFrame.\n\n<div class=\"alert alert-info\"><h4>Note</h4><p>This requires components to be chemical symbols.  This is not the case for the sample omf file (at this stage).</p></div>\n\n"
      ]
    },
    {
      "cell_type": "code",
      "execution_count": null,
      "metadata": {
        "collapsed": false
      },
      "outputs": [],
      "source": [
        "# bm: BlockModel = BlockModel.from_omf(omf_filepath=filepath, element_name='Block Model', mass_dry_var='mass',\n#                                      moisture_in_scope=False)"
      ]
    }
  ],
  "metadata": {
    "kernelspec": {
      "display_name": "Python 3",
      "language": "python",
      "name": "python3"
    },
    "language_info": {
      "codemirror_mode": {
        "name": "ipython",
        "version": 3
      },
      "file_extension": ".py",
      "mimetype": "text/x-python",
      "name": "python",
      "nbconvert_exporter": "python",
      "pygments_lexer": "ipython3",
      "version": "3.12.9"
    }
  },
  "nbformat": 4,
  "nbformat_minor": 0
}