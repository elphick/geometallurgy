{
  "cells": [
    {
      "cell_type": "markdown",
      "metadata": {},
      "source": [
        "\n# Resampling 2D Interval Data\n\nThe Sink Float metallurgical test splits/fractionates samples by density.  The density fraction is often conducted by\nsize fraction, resulting in 2D fractionation (interval) data.\n\nThis example demonstrates how to resample 2D interval data using the IntervalSample object.\n"
      ]
    },
    {
      "cell_type": "code",
      "execution_count": null,
      "metadata": {
        "collapsed": false
      },
      "outputs": [],
      "source": [
        "import logging\n\n# noinspection PyUnresolvedReferences\nimport numpy as np\nimport pandas as pd\nimport plotly.io\n\nfrom elphick.geomet import IntervalSample\nfrom elphick.geomet.datasets import datasets\nfrom elphick.geomet.utils.pandas import MeanIntervalIndex\nfrom elphick.geomet.utils.size import sizes_all"
      ]
    },
    {
      "cell_type": "code",
      "execution_count": null,
      "metadata": {
        "collapsed": false
      },
      "outputs": [],
      "source": [
        "logging.basicConfig(level=logging.INFO,\n                    format='%(asctime)s %(levelname)s %(module)s - %(funcName)s: %(message)s',\n                    datefmt='%Y-%m-%dT%H:%M:%S%z')"
      ]
    },
    {
      "cell_type": "markdown",
      "metadata": {},
      "source": [
        "## Load Data\n\nWe load some real data.\n\n"
      ]
    },
    {
      "cell_type": "code",
      "execution_count": null,
      "metadata": {
        "collapsed": false
      },
      "outputs": [],
      "source": [
        "df_data: pd.DataFrame = datasets.load_nordic_iron_ore_sink_float()\ndf_data"
      ]
    },
    {
      "cell_type": "markdown",
      "metadata": {},
      "source": [
        "The dataset contains size x assay, plus size x density x assay data.  We'll drop the size x assay data to leave the\nsink / float data.\n\n"
      ]
    },
    {
      "cell_type": "code",
      "execution_count": null,
      "metadata": {
        "collapsed": false
      },
      "outputs": [],
      "source": [
        "df_sink_float: pd.DataFrame = df_data.dropna(subset=['density_lo', 'density_hi'], how='all').copy()\ndf_sink_float"
      ]
    },
    {
      "cell_type": "markdown",
      "metadata": {},
      "source": [
        "We will fill some nan values with assumptions\n\n"
      ]
    },
    {
      "cell_type": "code",
      "execution_count": null,
      "metadata": {
        "collapsed": false
      },
      "outputs": [],
      "source": [
        "df_sink_float['size_passing'].fillna(1.0, inplace=True)\ndf_sink_float['density_lo'].fillna(1.5, inplace=True)\ndf_sink_float['density_hi'].fillna(5.0, inplace=True)"
      ]
    },
    {
      "cell_type": "markdown",
      "metadata": {},
      "source": [
        "Check the mass_pct by size\n\n"
      ]
    },
    {
      "cell_type": "code",
      "execution_count": null,
      "metadata": {
        "collapsed": false
      },
      "outputs": [],
      "source": [
        "mass_check: pd.DataFrame = df_sink_float[['size_passing', 'size_retained', 'mass_pct']].groupby(\n    ['size_passing', 'size_retained']).sum()\n# check that all are 100\nassert np.all(mass_check['mass_pct'] == 100)\n\nmass_check"
      ]
    },
    {
      "cell_type": "markdown",
      "metadata": {},
      "source": [
        "This indicates that the mass_pct column is actually a density_mass_pct column.\nWe'll rename that but also need to get the size_mass_pct values for those sizes from the size dataset\n\n"
      ]
    },
    {
      "cell_type": "code",
      "execution_count": null,
      "metadata": {
        "collapsed": false
      },
      "outputs": [],
      "source": [
        "df_sink_float.rename(columns={'mass_pct': 'density_mass_pct'}, inplace=True)\n\ndf_size: pd.DataFrame = df_data.loc[np.all(df_data[['density_lo', 'density_hi']].isna(), axis=1), :].copy()\ndf_size.dropna(how='all', axis=1, inplace=True)\nassert df_size['mass_pct'].sum() == 100\n\nsize_pairs = set(list((round(r, 5), round(p, 5)) for r, p in\n                      zip(df_sink_float['size_retained'].values, df_sink_float['size_passing'].values)))\nfor r, p in size_pairs:\n    df_sink_float.loc[(df_sink_float['size_retained'] == r) & (df_sink_float['size_passing'] == p), 'size_mass_pct'] = \\\n        df_size.loc[(df_size['size_retained'] == r) & (df_size['size_passing'] == p), 'mass_pct'].values[0]\n# relocate the size_mass_pct column to the correct position, after size_passing\ndf_sink_float.insert(2, df_sink_float.columns[-1], df_sink_float.pop(df_sink_float.columns[-1]))\n# add the mass_pct column\ndf_sink_float.insert(loc=6, column='mass_pct',\n                     value=df_sink_float['density_mass_pct'] * df_sink_float['size_mass_pct'] / 100)\ndf_sink_float"
      ]
    },
    {
      "cell_type": "markdown",
      "metadata": {},
      "source": [
        "## Create MeanIntervalIndexes\n\n"
      ]
    },
    {
      "cell_type": "code",
      "execution_count": null,
      "metadata": {
        "collapsed": false
      },
      "outputs": [],
      "source": [
        "size_intervals = pd.arrays.IntervalArray.from_arrays(df_sink_float['size_retained'], df_sink_float['size_passing'],\n                                                     closed='left')\nsize_index = MeanIntervalIndex(size_intervals)\nsize_index.name = 'size'\n\ndensity_intervals = pd.arrays.IntervalArray.from_arrays(df_sink_float['density_lo'], df_sink_float['density_hi'],\n                                                        closed='left')\ndensity_index = MeanIntervalIndex(density_intervals)\ndensity_index.name = 'density'\n\ndf_sink_float.index = pd.MultiIndex.from_arrays([size_index, density_index])\ndf_sink_float.drop(columns=['size_retained', 'size_passing', 'density_lo', 'density_hi'], inplace=True)\ndf_sink_float"
      ]
    },
    {
      "cell_type": "markdown",
      "metadata": {},
      "source": [
        "## Create a 2D IntervalSample\n\n"
      ]
    },
    {
      "cell_type": "code",
      "execution_count": null,
      "metadata": {
        "collapsed": false
      },
      "outputs": [],
      "source": [
        "interval_sample = IntervalSample(df_sink_float, name='SINK_FLOAT', moisture_in_scope=False, mass_dry_var='mass_pct')\nprint(interval_sample.is_2d_grid())\nprint(interval_sample.is_rectilinear_grid)\n\nfig = interval_sample.plot_heatmap(components=['mass_pct'])\nplotly.io.show(fig)"
      ]
    },
    {
      "cell_type": "markdown",
      "metadata": {},
      "source": [
        "## Upsample\nWe will upsample the data to a new grid\n\n"
      ]
    },
    {
      "cell_type": "code",
      "execution_count": null,
      "metadata": {
        "collapsed": false
      },
      "outputs": [],
      "source": [
        "size_grid = sorted([s for s in sizes_all if s >= size_index.left.min() and s <= size_index.right.max()])\ndensity_grid = np.arange(1.5, 5.1, 0.1)\nnew_grids: dict = {'size': size_grid, 'density': density_grid}\n\nupsampled: IntervalSample = interval_sample.resample_2d(interval_edges=new_grids, precision=3)\n\npd.testing.assert_frame_equal(interval_sample.aggregate.reset_index(drop=True), upsampled.aggregate.reset_index(drop=True))\n\nfig = upsampled.plot_heatmap(components=['mass_pct'])\nplotly.io.show(fig)"
      ]
    }
  ],
  "metadata": {
    "kernelspec": {
      "display_name": "Python 3",
      "language": "python",
      "name": "python3"
    },
    "language_info": {
      "codemirror_mode": {
        "name": "ipython",
        "version": 3
      },
      "file_extension": ".py",
      "mimetype": "text/x-python",
      "name": "python",
      "nbconvert_exporter": "python",
      "pygments_lexer": "ipython3",
      "version": "3.12.9"
    }
  },
  "nbformat": 4,
  "nbformat_minor": 0
}