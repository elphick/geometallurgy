{
  "cells": [
    {
      "cell_type": "markdown",
      "metadata": {},
      "source": [
        "\n# Load Block Model\n\nDemonstrates loading a block model in parquet format into pyvista.\n"
      ]
    },
    {
      "cell_type": "code",
      "execution_count": null,
      "metadata": {
        "collapsed": false
      },
      "outputs": [],
      "source": [
        "import logging\nfrom pathlib import Path\n\nimport numpy as np\nimport pandas as pd\nimport pyvista as pv\n\nfrom elphick.geomet import Sample\nfrom elphick.geomet.block_model import BlockModel\n\nlogging.basicConfig(level=logging.DEBUG)"
      ]
    },
    {
      "cell_type": "markdown",
      "metadata": {},
      "source": [
        "## Load\n\n"
      ]
    },
    {
      "cell_type": "code",
      "execution_count": null,
      "metadata": {
        "collapsed": false
      },
      "outputs": [],
      "source": [
        "block_model_filepath: Path = Path(\"../../assets/copper_deposit.parquet\")\n\n# Load the parquet file into a DataFrame\ndf = pd.read_parquet(block_model_filepath)\nprint(df.shape)\ndf.head()"
      ]
    },
    {
      "cell_type": "markdown",
      "metadata": {},
      "source": [
        "## Create a BlockModel\nThe `BlockModel` class is a subclass of `MassComposition` and inherits all its attributes and methods.\nThe block model plotted below is regular, that is, it has a record for every block in the model.  Blocks\nare the same size and adjacent to each other.  The block model is created from a DataFrame that has columns\nfor the x, y, z coordinates and the copper percentage.\n\nWe need to assign a dry mass (DMT) to the block model to conform to the underlying `MassComposition` class.\n\n"
      ]
    },
    {
      "cell_type": "code",
      "execution_count": null,
      "metadata": {
        "collapsed": false
      },
      "outputs": [],
      "source": [
        "bm: BlockModel = BlockModel(data=df.rename(columns={'CU_pct': 'Cu'}).assign(**{'DMT': 2000}),\n                            name='block_model', moisture_in_scope=False)\nbm._mass_data.head()\nprint(bm.is_irregular)\nprint(bm.common_block_size())"
      ]
    },
    {
      "cell_type": "code",
      "execution_count": null,
      "metadata": {
        "collapsed": false
      },
      "outputs": [],
      "source": [
        "bm.data.head()"
      ]
    },
    {
      "cell_type": "markdown",
      "metadata": {},
      "source": [
        "## Plot the block model\n\n"
      ]
    },
    {
      "cell_type": "code",
      "execution_count": null,
      "metadata": {
        "collapsed": false
      },
      "outputs": [],
      "source": [
        "bm.plot('Cu').show(auto_close=False)"
      ]
    },
    {
      "cell_type": "markdown",
      "metadata": {},
      "source": [
        "## Filter the data\nWhen a dataframe that represents a regular block model (a record for every block) is filtered, the resulting\nblock model cannot be regular anymore. This is because the filtering operation may remove blocks that are\nadjacent to each other, resulting in a block model that is irregular.  This example demonstrates this behavior.\nThe plot below is generated from a filtered block model that was originally regular.\n\n"
      ]
    },
    {
      "cell_type": "code",
      "execution_count": null,
      "metadata": {
        "collapsed": false
      },
      "outputs": [],
      "source": [
        "df_filtered = df.query('CU_pct > 0.132').copy()\nbm2: BlockModel = BlockModel(data=df_filtered.rename(columns={'CU_pct': 'Cu'}).assign(**{'DMT': 2000}),\n                             name='block_model', moisture_in_scope=False)\nbm2._mass_data.shape"
      ]
    },
    {
      "cell_type": "code",
      "execution_count": null,
      "metadata": {
        "collapsed": false
      },
      "outputs": [],
      "source": [
        "bm2.plot('Cu').show(auto_close=False)"
      ]
    }
  ],
  "metadata": {
    "kernelspec": {
      "display_name": "Python 3",
      "language": "python",
      "name": "python3"
    },
    "language_info": {
      "codemirror_mode": {
        "name": "ipython",
        "version": 3
      },
      "file_extension": ".py",
      "mimetype": "text/x-python",
      "name": "python",
      "nbconvert_exporter": "python",
      "pygments_lexer": "ipython3",
      "version": "3.12.9"
    }
  },
  "nbformat": 4,
  "nbformat_minor": 0
}