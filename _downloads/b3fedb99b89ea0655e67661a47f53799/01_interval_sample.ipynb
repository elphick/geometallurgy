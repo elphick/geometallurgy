{
  "cells": [
    {
      "cell_type": "markdown",
      "metadata": {},
      "source": [
        "\n# Interval Data\n\nThis example adds a second dimension.  The second dimension is an interval, of the form interval_from, interval_to.\nIt is also known as binned data, where each 'bin' is bounded between and upper and lower limit.\n\nAn interval is relevant in geology, when analysing drill hole data.\n\nIntervals are also encountered in metallurgy, but in that discipline they are often called fractions,\ne.g. size fractions.  In that case the typical nomenclature is size_retained, size passing, since the data\noriginates from a sieve stack.\n"
      ]
    },
    {
      "cell_type": "code",
      "execution_count": null,
      "metadata": {
        "collapsed": false
      },
      "outputs": [],
      "source": [
        "import logging\n\nimport pandas as pd\nimport plotly.io\nfrom matplotlib import pyplot as plt\n\nfrom elphick.geomet import Sample, IntervalSample\nfrom elphick.geomet.data.downloader import Downloader\nfrom elphick.geomet.utils.pandas import weight_average\nimport plotly.graph_objects as go"
      ]
    },
    {
      "cell_type": "code",
      "execution_count": null,
      "metadata": {
        "collapsed": false
      },
      "outputs": [],
      "source": [
        "logging.basicConfig(level=logging.INFO,\n                    format='%(asctime)s %(levelname)s %(module)s - %(funcName)s: %(message)s',\n                    datefmt='%Y-%m-%dT%H:%M:%S%z',\n                    )"
      ]
    },
    {
      "cell_type": "markdown",
      "metadata": {},
      "source": [
        "## Create a MassComposition object\n\nWe get some demo data in the form of a pandas DataFrame\nWe create this object as 1D based on the pandas index\n\n"
      ]
    },
    {
      "cell_type": "code",
      "execution_count": null,
      "metadata": {
        "collapsed": false
      },
      "outputs": [],
      "source": [
        "iron_ore_sample_data: pd.DataFrame = Downloader().load_data(datafile='iron_ore_sample_A072391.zip', show_report=False)\ndf_data: pd.DataFrame = iron_ore_sample_data\ndf_data.head()"
      ]
    },
    {
      "cell_type": "code",
      "execution_count": null,
      "metadata": {
        "collapsed": false
      },
      "outputs": [],
      "source": [
        "obj_mc: Sample = Sample(df_data, name='Drill program')\nobj_mc"
      ]
    },
    {
      "cell_type": "code",
      "execution_count": null,
      "metadata": {
        "collapsed": false
      },
      "outputs": [],
      "source": [
        "obj_mc.aggregate"
      ]
    },
    {
      "cell_type": "markdown",
      "metadata": {},
      "source": [
        "Use the normal pandas groupby-apply as needed.  Here we leverage the weight_average function\nfrom utils.pandas\n\n"
      ]
    },
    {
      "cell_type": "code",
      "execution_count": null,
      "metadata": {
        "collapsed": false
      },
      "outputs": [],
      "source": [
        "hole_average: pd.DataFrame = obj_mc.data.groupby('DHID').apply(weight_average)\nhole_average"
      ]
    },
    {
      "cell_type": "markdown",
      "metadata": {},
      "source": [
        "We will now make a 2D dataset using DHID and the intervals.\n\n"
      ]
    },
    {
      "cell_type": "code",
      "execution_count": null,
      "metadata": {
        "collapsed": false
      },
      "outputs": [],
      "source": [
        "df_data['DHID'] = df_data['DHID'].astype('category')\ndf_data = df_data.reset_index(drop=True).set_index(['DHID', 'interval_from', 'interval_to'])\n\nobj_mc_2d: IntervalSample = IntervalSample(df_data, name='Drill program')\nprint(obj_mc_2d)"
      ]
    },
    {
      "cell_type": "code",
      "execution_count": null,
      "metadata": {
        "collapsed": false
      },
      "outputs": [],
      "source": [
        "obj_mc_2d.aggregate"
      ]
    },
    {
      "cell_type": "code",
      "execution_count": null,
      "metadata": {
        "collapsed": false
      },
      "outputs": [],
      "source": [
        "obj_mc_2d.data.groupby('DHID').apply(weight_average, **{'mass_wet': 'mass_wet', 'moisture_column_name': 'H2O'})"
      ]
    },
    {
      "cell_type": "markdown",
      "metadata": {},
      "source": [
        "View some plots\n\n\n"
      ]
    },
    {
      "cell_type": "code",
      "execution_count": null,
      "metadata": {
        "collapsed": false
      },
      "outputs": [],
      "source": [
        "fig: go.Figure = obj_mc_2d.plot_parallel(color='DHID')\nplotly.io.show(fig)"
      ]
    },
    {
      "cell_type": "code",
      "execution_count": null,
      "metadata": {
        "collapsed": false
      },
      "outputs": [],
      "source": [
        "obj_mc_2d.query('DHID==\"CBS02\"').reset_index('DHID').plot_intervals(variables=['mass_dry', 'Fe', 'SiO2', 'Al2O3'],\n                                                                    cumulative=False)"
      ]
    }
  ],
  "metadata": {
    "kernelspec": {
      "display_name": "Python 3",
      "language": "python",
      "name": "python3"
    },
    "language_info": {
      "codemirror_mode": {
        "name": "ipython",
        "version": 3
      },
      "file_extension": ".py",
      "mimetype": "text/x-python",
      "name": "python",
      "nbconvert_exporter": "python",
      "pygments_lexer": "ipython3",
      "version": "3.12.9"
    }
  },
  "nbformat": 4,
  "nbformat_minor": 0
}