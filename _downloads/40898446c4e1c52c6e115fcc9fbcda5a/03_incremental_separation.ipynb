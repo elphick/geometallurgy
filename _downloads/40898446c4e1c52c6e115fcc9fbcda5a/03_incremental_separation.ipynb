{
  "cells": [
    {
      "cell_type": "markdown",
      "metadata": {},
      "source": [
        "\n# Incremental Separation\n\nThis method sorts by the provided direction prior to incrementally removing and discarding the first fraction\n(of the remaining fractions) and recalculating the mass-composition and recovery of the portion remaining.\nThis is equivalent to incrementally applying a perfect separation (partition) at every interval edge.\n\nThe returned data can be used to assess the amenability of a fractionated sample (in the dimension of the sample).\n\nThis concept is only applicable in a single dimension where the mass-composition (sample) object is an interval index.\n\nThe example will use a dataset that represents a sample fractionated by size.\n"
      ]
    },
    {
      "cell_type": "code",
      "execution_count": null,
      "metadata": {
        "collapsed": false
      },
      "outputs": [],
      "source": [
        "import logging\n\nimport pandas as pd\nimport plotly\n\nfrom elphick.geomet import IntervalSample\nfrom elphick.geomet.datasets.sample_data import size_by_assay"
      ]
    },
    {
      "cell_type": "code",
      "execution_count": null,
      "metadata": {
        "collapsed": false
      },
      "outputs": [],
      "source": [
        "logging.basicConfig(level=logging.INFO,\n                    format='%(asctime)s %(levelname)s %(module)s - %(funcName)s: %(message)s',\n                    datefmt='%Y-%m-%dT%H:%M:%S%z')"
      ]
    },
    {
      "cell_type": "markdown",
      "metadata": {},
      "source": [
        "## Create the sample\n\nThe sample is a MassComposition object\n\n"
      ]
    },
    {
      "cell_type": "code",
      "execution_count": null,
      "metadata": {
        "collapsed": false
      },
      "outputs": [],
      "source": [
        "df_data: pd.DataFrame = size_by_assay()\ndf_data"
      ]
    },
    {
      "cell_type": "markdown",
      "metadata": {},
      "source": [
        "The size index is of the Interval type, maintaining the fractional information.\n\n"
      ]
    },
    {
      "cell_type": "code",
      "execution_count": null,
      "metadata": {
        "collapsed": false
      },
      "outputs": [],
      "source": [
        "mc_size: IntervalSample = IntervalSample(df_data, name='Sample', moisture_in_scope=False)\nmc_size.data"
      ]
    },
    {
      "cell_type": "markdown",
      "metadata": {},
      "source": [
        "## Incrementally Separate\n\nLeverage the method to return the incremental perfect separation in the size dimension.\nHere we will \"de-slime\" by discarding the smallest (lowest) sizes incrementally.\n\n"
      ]
    },
    {
      "cell_type": "code",
      "execution_count": null,
      "metadata": {
        "collapsed": false
      },
      "outputs": [],
      "source": [
        "results: pd.DataFrame = mc_size.ideal_incremental_separation(discard_from=\"lowest\")\nresults"
      ]
    },
    {
      "cell_type": "markdown",
      "metadata": {},
      "source": [
        "Repeat the process but by discarding the coarser sizes.\n\n"
      ]
    },
    {
      "cell_type": "code",
      "execution_count": null,
      "metadata": {
        "collapsed": false
      },
      "outputs": [],
      "source": [
        "results_2: pd.DataFrame = mc_size.ideal_incremental_separation(discard_from=\"highest\")\nresults_2"
      ]
    },
    {
      "cell_type": "markdown",
      "metadata": {},
      "source": [
        "## Plot Grade-Recovery\n\n"
      ]
    },
    {
      "cell_type": "code",
      "execution_count": null,
      "metadata": {
        "collapsed": false
      },
      "outputs": [],
      "source": [
        "fig = mc_size.plot_grade_recovery(target_analyte='Fe')\nfig.update_layout(height=800)\nfig"
      ]
    },
    {
      "cell_type": "markdown",
      "metadata": {},
      "source": [
        "Discard the highest (coarsest) sizes.  As expected the response differs.\n\n"
      ]
    },
    {
      "cell_type": "code",
      "execution_count": null,
      "metadata": {
        "collapsed": false
      },
      "outputs": [],
      "source": [
        "fig = mc_size.plot_grade_recovery(target_analyte='Fe', discard_from=\"highest\")\nfig.update_layout(height=800)"
      ]
    },
    {
      "cell_type": "markdown",
      "metadata": {},
      "source": [
        "## Plot Amenability\n\nThe Amenability Index (AI) will generally range between zero and one, but can in fact be legitimately negative.\nThe closer the AI is to 1.0, the more amenable the ore is to separation of that particular gangue component relative\nto the target analyte.  The AI is shown in the legend (in brackets).\n\nThe plot below suggests that SiO2 is marginally more amenable than Al2O3 across the\nspectrum of yield for this sample.\n\n"
      ]
    },
    {
      "cell_type": "code",
      "execution_count": null,
      "metadata": {
        "collapsed": false
      },
      "outputs": [],
      "source": [
        "fig = mc_size.plot_amenability(target_analyte='Fe')\nfig.update_layout(height=800)\n# noinspection PyTypeChecker\nplotly.io.show(fig)"
      ]
    },
    {
      "cell_type": "markdown",
      "metadata": {},
      "source": [
        "Discard the highest (coarsest) sizes.  As expected the response differs.  The Amenability indices are negative\nindicating a downgrade, rather than an upgrade.  This demonstrates that desliming is a plausible pathway to\nbeneficiating this sample, while \"coarse scalping\" is not.\n\n"
      ]
    },
    {
      "cell_type": "code",
      "execution_count": null,
      "metadata": {
        "collapsed": false
      },
      "outputs": [],
      "source": [
        "fig = mc_size.plot_amenability(target_analyte='Fe', discard_from=\"highest\")\nfig.update_layout(height=800)\nfig"
      ]
    }
  ],
  "metadata": {
    "kernelspec": {
      "display_name": "Python 3",
      "language": "python",
      "name": "python3"
    },
    "language_info": {
      "codemirror_mode": {
        "name": "ipython",
        "version": 3
      },
      "file_extension": ".py",
      "mimetype": "text/x-python",
      "name": "python",
      "nbconvert_exporter": "python",
      "pygments_lexer": "ipython3",
      "version": "3.12.9"
    }
  },
  "nbformat": 4,
  "nbformat_minor": 0
}