{
  "cells": [
    {
      "cell_type": "markdown",
      "metadata": {},
      "source": [
        "\n# Resampling Interval Data\n\nInterval (or fractional) data is common in metallurgy and mineral processing.  Samples are sized using sieves\nin a laboratory and each resultant fraction is often assayed to determine chemical composition.\nThe typical nomenclature is of the interval edges is size_retained, size passing - any particle within an interval\nor fraction was retained by the lower sieve size, but passed the sieve size above it.\n"
      ]
    },
    {
      "cell_type": "code",
      "execution_count": null,
      "metadata": {
        "collapsed": false
      },
      "outputs": [],
      "source": [
        "import logging\n\nimport numpy as np\nimport pandas as pd\nimport plotly\n\nfrom elphick.geomet import IntervalSample\nfrom elphick.geomet.datasets.sample_data import size_by_assay\nfrom elphick.geomet.utils.size import sizes_all"
      ]
    },
    {
      "cell_type": "code",
      "execution_count": null,
      "metadata": {
        "collapsed": false
      },
      "outputs": [],
      "source": [
        "logging.basicConfig(level=logging.WARNING,\n                    format='%(asctime)s %(levelname)s %(module)s - %(funcName)s: %(message)s',\n                    datefmt='%Y-%m-%dT%H:%M:%S%z',\n                    )"
      ]
    },
    {
      "cell_type": "markdown",
      "metadata": {},
      "source": [
        "## Create a MassComposition object\n\nWe get some demo data in the form of a pandas DataFrame\nWe create this object as 1D based on the pandas index\n\n"
      ]
    },
    {
      "cell_type": "code",
      "execution_count": null,
      "metadata": {
        "collapsed": false
      },
      "outputs": [],
      "source": [
        "df_data: pd.DataFrame = size_by_assay()\ndf_data"
      ]
    },
    {
      "cell_type": "markdown",
      "metadata": {},
      "source": [
        "The size index is of the Interval type, maintaining the fractional information.\n\n"
      ]
    },
    {
      "cell_type": "code",
      "execution_count": null,
      "metadata": {
        "collapsed": false
      },
      "outputs": [],
      "source": [
        "size_fractions: IntervalSample = IntervalSample(df_data, name='Sample', moisture_in_scope=False)\nsize_fractions.data"
      ]
    },
    {
      "cell_type": "code",
      "execution_count": null,
      "metadata": {
        "collapsed": false
      },
      "outputs": [],
      "source": [
        "size_fractions.aggregate"
      ]
    },
    {
      "cell_type": "markdown",
      "metadata": {},
      "source": [
        "## Plot the original sample intervals\nFirst we'll plot the intervals of the original sample\n\n"
      ]
    },
    {
      "cell_type": "code",
      "execution_count": null,
      "metadata": {
        "collapsed": false
      },
      "outputs": [],
      "source": [
        "fig = size_fractions.plot_intervals(variables=['mass_dry', 'Fe', 'SiO2', 'Al2O3'],\n                                    cumulative=False)\nplotly.io.show(fig)"
      ]
    },
    {
      "cell_type": "markdown",
      "metadata": {},
      "source": [
        "Size distributions are often plotted in the cumulative form. Cumulative passing is achieved by setting the\ndirection = ascending.\n\n"
      ]
    },
    {
      "cell_type": "code",
      "execution_count": null,
      "metadata": {
        "collapsed": false
      },
      "outputs": [],
      "source": [
        "fig = size_fractions.plot_intervals(variables=['mass_dry', 'Fe', 'SiO2', 'Al2O3'],\n                                    cumulative=True, direction='ascending')\nfig"
      ]
    },
    {
      "cell_type": "markdown",
      "metadata": {},
      "source": [
        "## Resample on a defined grid\nNow we will resample on a defined grid (interval edges) and view the resampled fractions\n\n"
      ]
    },
    {
      "cell_type": "code",
      "execution_count": null,
      "metadata": {
        "collapsed": false
      },
      "outputs": [],
      "source": [
        "new_edges = np.unique(np.geomspace(1.0e-03, size_fractions.data.index.right.max(), 50))\nnew_coords = np.insert(new_edges, 0, 0)\n\nupsampled: IntervalSample = size_fractions.resample_1d(interval_edges=new_edges, precision=3,\n                                                       include_original_edges=True)\n\nfig = upsampled.plot_intervals(variables=['mass_dry', 'Fe', 'SiO2', 'Al2O3'], cumulative=False)\n# noinspection PyTypeChecker\nplotly.io.show(fig)"
      ]
    },
    {
      "cell_type": "markdown",
      "metadata": {},
      "source": [
        "Close inspection of the plot above reals some sharp dips for some mass intervals.  This is caused by those intervals\nbeing narrower than the adjacent neighbours, hence they have less absolute mass.\nThis is a visual artefact only, numerically it is correct, as shown by the cumulative plot.\n\n"
      ]
    },
    {
      "cell_type": "code",
      "execution_count": null,
      "metadata": {
        "collapsed": false
      },
      "outputs": [],
      "source": [
        "fig = upsampled.plot_intervals(variables=['mass_dry', 'Fe', 'SiO2', 'Al2O3'], cumulative=True, direction='ascending')\nfig"
      ]
    },
    {
      "cell_type": "markdown",
      "metadata": {},
      "source": [
        "## Up-sample by a factor\nWe can up-sample each of the original fraction by a factor.  Since adjacent fractions are similar, the fractional\nplot is reasonably smooth.  Note however, that fraction widths are still different, caused by the original sieve\nselection.\n\n"
      ]
    },
    {
      "cell_type": "code",
      "execution_count": null,
      "metadata": {
        "collapsed": false
      },
      "outputs": [],
      "source": [
        "upsampled_2: IntervalSample = size_fractions.resample_1d(interval_edges=10, precision=3)\nfig = upsampled_2.plot_intervals(variables=['mass_dry', 'Fe', 'SiO2', 'Al2O3'], cumulative=False)\nfig"
      ]
    },
    {
      "cell_type": "markdown",
      "metadata": {},
      "source": [
        "## Up-sample to a sieve series\nStandard sieve series account for the log nature of a particle size distribution.  This results in reasonably\nequal width intervals on a log scale.  We will up-sample to a standard sieve series and plot the results.\n\n"
      ]
    },
    {
      "cell_type": "code",
      "execution_count": null,
      "metadata": {
        "collapsed": false
      },
      "outputs": [],
      "source": [
        "new_sizes = [s for s in sizes_all if\n             s >= size_fractions.data.index.left.min() and s <= size_fractions.data.index.right.max()]\nnew_sizes = sorted(new_sizes)"
      ]
    },
    {
      "cell_type": "code",
      "execution_count": null,
      "metadata": {
        "collapsed": false
      },
      "outputs": [],
      "source": [
        "upsampled_3: IntervalSample = size_fractions.resample_1d(interval_edges=new_sizes, precision=3)\nfig = upsampled_3.plot_intervals(variables=['mass_dry', 'Fe', 'SiO2', 'Al2O3'], cumulative=False)\nfig"
      ]
    },
    {
      "cell_type": "markdown",
      "metadata": {},
      "source": [
        "Validate the head grade against the original sample\n\n"
      ]
    },
    {
      "cell_type": "code",
      "execution_count": null,
      "metadata": {
        "collapsed": false
      },
      "outputs": [],
      "source": [
        "pd.testing.assert_frame_equal(size_fractions.aggregate.reset_index(drop=True),\n                              upsampled.aggregate.reset_index(drop=True))\n\npd.testing.assert_frame_equal(size_fractions.aggregate.reset_index(drop=True),\n                              upsampled_2.aggregate.reset_index(drop=True))\n\npd.testing.assert_frame_equal(size_fractions.aggregate.reset_index(drop=True),\n                              upsampled_3.aggregate.reset_index(drop=True))"
      ]
    },
    {
      "cell_type": "markdown",
      "metadata": {},
      "source": [
        "Complete a round trip by converting the up-sampled objects back to the original intervals and validate.\n\n"
      ]
    },
    {
      "cell_type": "code",
      "execution_count": null,
      "metadata": {
        "collapsed": false
      },
      "outputs": [],
      "source": [
        "orig_index = size_fractions.data.index\noriginal_edges: np.ndarray = np.sort(np.unique(list(orig_index.left) + list(orig_index.right)))\n\ndownsampled: IntervalSample = upsampled.resample_1d(interval_edges=original_edges, precision=3)\ndownsampled_2: IntervalSample = upsampled_2.resample_1d(interval_edges=original_edges, precision=3)\ndownsampled_3: IntervalSample = upsampled_3.resample_1d(interval_edges=original_edges, precision=3)\n\npd.testing.assert_frame_equal(size_fractions.data, downsampled.data)\npd.testing.assert_frame_equal(size_fractions.data, downsampled_2.data)\npd.testing.assert_frame_equal(size_fractions.data, downsampled_3.data)"
      ]
    }
  ],
  "metadata": {
    "kernelspec": {
      "display_name": "Python 3",
      "language": "python",
      "name": "python3"
    },
    "language_info": {
      "codemirror_mode": {
        "name": "ipython",
        "version": 3
      },
      "file_extension": ".py",
      "mimetype": "text/x-python",
      "name": "python",
      "nbconvert_exporter": "python",
      "pygments_lexer": "ipython3",
      "version": "3.12.9"
    }
  },
  "nbformat": 4,
  "nbformat_minor": 0
}