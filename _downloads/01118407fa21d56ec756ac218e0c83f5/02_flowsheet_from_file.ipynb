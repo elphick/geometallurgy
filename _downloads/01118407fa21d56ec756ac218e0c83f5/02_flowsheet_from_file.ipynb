{
  "cells": [
    {
      "cell_type": "markdown",
      "metadata": {},
      "source": [
        "\n# Flowsheet from File\n\nIt is possible to create a Flowsheet object from a file.  This example demonstrates how to create a Flowsheet object\nfrom a file.\n"
      ]
    },
    {
      "cell_type": "code",
      "execution_count": null,
      "metadata": {
        "collapsed": false
      },
      "outputs": [],
      "source": [
        "import inspect\nfrom pathlib import Path\n\nimport pandas as pd\nfrom matplotlib import pyplot as plt\n\nfrom elphick.geomet.flowsheet import Flowsheet\nfrom elphick.geomet.flowsheet.stream import Stream\nfrom elphick.geomet.utils.data import sample_data\n\n__file__ = Path(inspect.getfile(inspect.currentframe())).resolve()"
      ]
    },
    {
      "cell_type": "markdown",
      "metadata": {},
      "source": [
        "## YAML file\n\nThe yaml file needs to follow this structure.\n\n"
      ]
    },
    {
      "cell_type": "code",
      "execution_count": null,
      "metadata": {
        "collapsed": false
      },
      "outputs": [],
      "source": [
        "yaml_filepath: Path = Path(__file__).parents[2] / 'elphick/geomet/config/flowsheet_example_simple.yaml'\nyaml_config: str = yaml_filepath.read_text()\nyaml_config"
      ]
    },
    {
      "cell_type": "markdown",
      "metadata": {},
      "source": [
        "## Create Flowsheet\n\n"
      ]
    },
    {
      "cell_type": "code",
      "execution_count": null,
      "metadata": {
        "collapsed": false
      },
      "outputs": [],
      "source": [
        "fs: Flowsheet = Flowsheet.from_yaml(yaml_filepath)\nfs"
      ]
    },
    {
      "cell_type": "markdown",
      "metadata": {},
      "source": [
        "The Flowsheet object can be visualized as a network.\nThe streams are not yet populated, so are shown in red.\n\n"
      ]
    },
    {
      "cell_type": "code",
      "execution_count": null,
      "metadata": {
        "collapsed": false
      },
      "outputs": [],
      "source": [
        "fs.plot()\nplt"
      ]
    },
    {
      "cell_type": "markdown",
      "metadata": {},
      "source": [
        "## Load the data\nLoad data onto two of the three streams.\n\n"
      ]
    },
    {
      "cell_type": "code",
      "execution_count": null,
      "metadata": {
        "collapsed": false
      },
      "outputs": [],
      "source": [
        "df_feed: pd.DataFrame = sample_data()\nobj_feed: Stream = Stream(df_feed, name='Feed')\n\n# assume the Coarse stream is 0.4 of the Feed stream mass\ndf_coarse: pd.DataFrame = df_feed.copy()\ndf_coarse['wet_mass'] = df_coarse['wet_mass'] * 0.4\ndf_coarse['mass_dry'] = df_coarse['mass_dry'] * 0.4\nobj_coarse: Stream = Stream(df_coarse, name='Coarse')\n\nfs.set_stream_data(stream_data={'Feed': obj_feed, 'Coarse': obj_coarse})"
      ]
    },
    {
      "cell_type": "code",
      "execution_count": null,
      "metadata": {
        "collapsed": false
      },
      "outputs": [],
      "source": [
        "fs.plot()\nplt"
      ]
    },
    {
      "cell_type": "markdown",
      "metadata": {},
      "source": [
        "## Solve the flowsheet\n\n"
      ]
    },
    {
      "cell_type": "code",
      "execution_count": null,
      "metadata": {
        "collapsed": false
      },
      "outputs": [],
      "source": [
        "fs.solve()\nfs.plot()\nplt"
      ]
    },
    {
      "cell_type": "markdown",
      "metadata": {},
      "source": [
        "## Plot the mass balance\n\n"
      ]
    },
    {
      "cell_type": "code",
      "execution_count": null,
      "metadata": {
        "collapsed": false
      },
      "outputs": [],
      "source": [
        "fig = fs.table_plot(plot_type='network')\nfig"
      ]
    }
  ],
  "metadata": {
    "kernelspec": {
      "display_name": "Python 3",
      "language": "python",
      "name": "python3"
    },
    "language_info": {
      "codemirror_mode": {
        "name": "ipython",
        "version": 3
      },
      "file_extension": ".py",
      "mimetype": "text/x-python",
      "name": "python",
      "nbconvert_exporter": "python",
      "pygments_lexer": "ipython3",
      "version": "3.12.9"
    }
  },
  "nbformat": 4,
  "nbformat_minor": 0
}