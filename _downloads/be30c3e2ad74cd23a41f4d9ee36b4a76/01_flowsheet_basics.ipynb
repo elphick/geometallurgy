{
  "cells": [
    {
      "cell_type": "markdown",
      "metadata": {},
      "source": [
        "\n# Flowsheet Basics\n\nRelated Sample objects can be managed as a network.  In the Process Engineering/Metallurgy\ndisciplines the network will often be called a `flowsheet`.\n"
      ]
    },
    {
      "cell_type": "code",
      "execution_count": null,
      "metadata": {
        "collapsed": false
      },
      "outputs": [],
      "source": [
        "from copy import deepcopy\nfrom typing import Dict\n\nimport pandas as pd\nfrom matplotlib import pyplot as plt\n\nfrom elphick.geomet.flowsheet import Flowsheet\nfrom elphick.geomet.flowsheet.operation import Operation\nfrom elphick.geomet.flowsheet.stream import Stream\nfrom elphick.geomet.utils.data import sample_data"
      ]
    },
    {
      "cell_type": "markdown",
      "metadata": {},
      "source": [
        "## Create some Sample objects\n\nCreate an object, and split it to create two more objects.\n\n"
      ]
    },
    {
      "cell_type": "code",
      "execution_count": null,
      "metadata": {
        "collapsed": false
      },
      "outputs": [],
      "source": [
        "df_data: pd.DataFrame = sample_data()\nobj_strm: Stream = Stream(df_data, name='Feed')\nobj_strm_1, obj_strm_2 = obj_strm.split(0.4, name_1='stream 1', name_2='stream 2')"
      ]
    },
    {
      "cell_type": "markdown",
      "metadata": {},
      "source": [
        "Placeholder random nodes are created for each Sample object.\nThis is done to capture the relationships implicitly defined by any math operations performed on the objects.\n\n"
      ]
    },
    {
      "cell_type": "code",
      "execution_count": null,
      "metadata": {
        "collapsed": false
      },
      "outputs": [],
      "source": [
        "for obj in [obj_strm, obj_strm_1, obj_strm_2]:\n    print(obj.name, obj.nodes)"
      ]
    },
    {
      "cell_type": "markdown",
      "metadata": {},
      "source": [
        "## Create a Flowsheet object\n\nThis requires passing an Iterable of Sample objects\n\n"
      ]
    },
    {
      "cell_type": "code",
      "execution_count": null,
      "metadata": {
        "collapsed": false
      },
      "outputs": [],
      "source": [
        "fs: Flowsheet = Flowsheet.from_objects([obj_strm, obj_strm_1, obj_strm_2])"
      ]
    },
    {
      "cell_type": "markdown",
      "metadata": {},
      "source": [
        "Print the node object detail\n\n"
      ]
    },
    {
      "cell_type": "code",
      "execution_count": null,
      "metadata": {
        "collapsed": false
      },
      "outputs": [],
      "source": [
        "for node in fs.graph.nodes:\n    print(fs.graph.nodes[node]['mc'])"
      ]
    },
    {
      "cell_type": "markdown",
      "metadata": {},
      "source": [
        "Note that the random node placeholder integers have been renumbered for readability.\n\n"
      ]
    },
    {
      "cell_type": "code",
      "execution_count": null,
      "metadata": {
        "collapsed": false
      },
      "outputs": [],
      "source": [
        "for obj in [obj_strm, obj_strm_1, obj_strm_2]:\n    print(obj.name, obj.nodes)"
      ]
    },
    {
      "cell_type": "markdown",
      "metadata": {},
      "source": [
        "Print the overall network balanced status\n\nNOTE: presently this only includes node balance status\nedge balance status will assure the mass-moisture balance is satisfied\n\n"
      ]
    },
    {
      "cell_type": "code",
      "execution_count": null,
      "metadata": {
        "collapsed": false
      },
      "outputs": [],
      "source": [
        "print(fs.all_nodes_healthy)"
      ]
    },
    {
      "cell_type": "markdown",
      "metadata": {},
      "source": [
        "Plot the network.\nImbalanced Nodes will appear red.  Later, Imbalanced Edges will also appear red.\n\n"
      ]
    },
    {
      "cell_type": "code",
      "execution_count": null,
      "metadata": {
        "collapsed": false
      },
      "outputs": [],
      "source": [
        "fs.plot()\nplt"
      ]
    },
    {
      "cell_type": "markdown",
      "metadata": {},
      "source": [
        "Display the weight averages for all edges (streams) in the network (flowsheet)\n\n"
      ]
    },
    {
      "cell_type": "code",
      "execution_count": null,
      "metadata": {
        "collapsed": false
      },
      "outputs": [],
      "source": [
        "df_report: pd.DataFrame = fs.report()\ndf_report"
      ]
    },
    {
      "cell_type": "code",
      "execution_count": null,
      "metadata": {
        "collapsed": false
      },
      "outputs": [],
      "source": [
        "df_report: pd.DataFrame = fs.report(apply_formats=True)\ndf_report"
      ]
    },
    {
      "cell_type": "markdown",
      "metadata": {},
      "source": [
        "Plot the interactive network using plotly\n\n"
      ]
    },
    {
      "cell_type": "code",
      "execution_count": null,
      "metadata": {
        "collapsed": false
      },
      "outputs": [],
      "source": [
        "fig = fs.plot_network()\nfig"
      ]
    },
    {
      "cell_type": "markdown",
      "metadata": {},
      "source": [
        "Plot the Sankey\n\n"
      ]
    },
    {
      "cell_type": "code",
      "execution_count": null,
      "metadata": {
        "collapsed": false
      },
      "outputs": [],
      "source": [
        "fig = fs.plot_sankey()\nfig"
      ]
    },
    {
      "cell_type": "markdown",
      "metadata": {},
      "source": [
        "Demonstrate the table-plot\n\n"
      ]
    },
    {
      "cell_type": "code",
      "execution_count": null,
      "metadata": {
        "collapsed": false
      },
      "outputs": [],
      "source": [
        "fig = fs.table_plot(plot_type='sankey', table_pos='top', table_area=0.3).update_layout(height=700)\nfig"
      ]
    },
    {
      "cell_type": "code",
      "execution_count": null,
      "metadata": {
        "collapsed": false
      },
      "outputs": [],
      "source": [
        "fig = fs.table_plot(plot_type='network', table_pos='bottom', table_area=0.3).update_layout(height=700)\nfig"
      ]
    },
    {
      "cell_type": "markdown",
      "metadata": {},
      "source": [
        "## Expand the Network with Math Operators\n\n\n"
      ]
    },
    {
      "cell_type": "code",
      "execution_count": null,
      "metadata": {
        "collapsed": false
      },
      "outputs": [],
      "source": [
        "obj_strm_3, obj_strm_4 = obj_strm_2.split(0.8, name_1='stream 3', name_2='stream 4')\nobj_strm_5 = obj_strm_1.add(obj_strm_3, name='stream 5')\n\nfs2: Flowsheet = Flowsheet.from_objects([obj_strm, obj_strm_1, obj_strm_2, obj_strm_3, obj_strm_4, obj_strm_5])\n\nfig = fs2.table_plot(plot_type='sankey', table_pos='left')\nfig"
      ]
    },
    {
      "cell_type": "markdown",
      "metadata": {},
      "source": [
        "## Setting Node names\n\n"
      ]
    },
    {
      "cell_type": "code",
      "execution_count": null,
      "metadata": {
        "collapsed": false
      },
      "outputs": [],
      "source": [
        "nodes_before: Dict[int, Operation] = fs.nodes_to_dict()\nprint({n: o.name for n, o in nodes_before.items()})"
      ]
    },
    {
      "cell_type": "code",
      "execution_count": null,
      "metadata": {
        "collapsed": false
      },
      "outputs": [],
      "source": [
        "fs.set_node_names(node_names={0: 'node_0', 1: 'node_1', 2: 'node_2', 3: 'node_3'})\nnodes_after: Dict[int, Operation] = fs.nodes_to_dict()\nprint({n: o.name for n, o in nodes_after.items()})"
      ]
    },
    {
      "cell_type": "markdown",
      "metadata": {},
      "source": [
        "## Setting Stream data\n\nFirst we show how to easily access the stream data as a dictionary\n\n"
      ]
    },
    {
      "cell_type": "code",
      "execution_count": null,
      "metadata": {
        "collapsed": false
      },
      "outputs": [],
      "source": [
        "stream_data: Dict[str, Stream] = fs.streams_to_dict()\nprint(stream_data.keys())"
      ]
    },
    {
      "cell_type": "markdown",
      "metadata": {},
      "source": [
        "We will replace stream 2 with the same data as stream 1.\n\n"
      ]
    },
    {
      "cell_type": "code",
      "execution_count": null,
      "metadata": {
        "collapsed": false
      },
      "outputs": [],
      "source": [
        "new_stream: Stream = deepcopy(fs.get_stream_by_name('stream 1'))\n# we need to rename to avoid a creating a duplicate stream name\nnew_stream.name = 'stream 1 copy'\nfs.set_stream_data({'stream 2': new_stream})\nprint(fs.streams_to_dict().keys())"
      ]
    },
    {
      "cell_type": "markdown",
      "metadata": {},
      "source": [
        "Of course the network is now unbalanced as highlighted in the Sankey\n\n"
      ]
    },
    {
      "cell_type": "code",
      "execution_count": null,
      "metadata": {
        "collapsed": false
      },
      "outputs": [],
      "source": [
        "fig = fs.table_plot()\nfig"
      ]
    },
    {
      "cell_type": "markdown",
      "metadata": {},
      "source": [
        "## Methods to modify relationships\n\nSometimes the network that is automatically created may not be what you are after - for example flow may be in\nthe wrong direction.  We'll learn how to modify an existing network, by picking up the network above.\n\nLet's break the links for the _stream 1_.\n\n"
      ]
    },
    {
      "cell_type": "code",
      "execution_count": null,
      "metadata": {
        "collapsed": false
      },
      "outputs": [],
      "source": [
        "fs.reset_stream_nodes(stream=\"stream 1\")\nfig = fs.table_plot()\nfig"
      ]
    },
    {
      "cell_type": "markdown",
      "metadata": {},
      "source": [
        "We'll now break all remaining connections (we could have done this from the start).\n\n"
      ]
    },
    {
      "cell_type": "code",
      "execution_count": null,
      "metadata": {
        "collapsed": false
      },
      "outputs": [],
      "source": [
        "fs.reset_stream_nodes()\nfig = fs.table_plot()\nfig"
      ]
    },
    {
      "cell_type": "markdown",
      "metadata": {},
      "source": [
        "Now we'll create some linkages - of course they will be completely rubbish and not balance.\n\n"
      ]
    },
    {
      "cell_type": "code",
      "execution_count": null,
      "metadata": {
        "collapsed": false
      },
      "outputs": [],
      "source": [
        "fs.set_stream_parent(stream=\"stream 1\", parent=\"Feed\")\nfs.set_stream_child(stream=\"stream 1\", child=\"stream 1 copy\")\nfig = fs.table_plot()\nfig"
      ]
    },
    {
      "cell_type": "markdown",
      "metadata": {},
      "source": [
        "Perhaps less useful, but possible, we can build relationships by setting nodes directly.\n\n"
      ]
    },
    {
      "cell_type": "code",
      "execution_count": null,
      "metadata": {
        "collapsed": false
      },
      "outputs": [],
      "source": [
        "fs.reset_stream_nodes()\nfs.set_nodes(stream=\"stream 1\", nodes=(1, 2))\nfs.set_nodes(stream=\"stream 1 copy\", nodes=(2, 3))\nfig = fs.table_plot()\nfig"
      ]
    }
  ],
  "metadata": {
    "kernelspec": {
      "display_name": "Python 3",
      "language": "python",
      "name": "python3"
    },
    "language_info": {
      "codemirror_mode": {
        "name": "ipython",
        "version": 3
      },
      "file_extension": ".py",
      "mimetype": "text/x-python",
      "name": "python",
      "nbconvert_exporter": "python",
      "pygments_lexer": "ipython3",
      "version": "3.12.9"
    }
  },
  "nbformat": 4,
  "nbformat_minor": 0
}